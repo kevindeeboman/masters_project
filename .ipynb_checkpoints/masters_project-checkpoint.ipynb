{
 "cells": [
  {
   "cell_type": "code",
   "execution_count": 3,
   "metadata": {},
   "outputs": [],
   "source": [
    "import psycopg2 as pg2\n",
    "import pandas as pd"
   ]
  },
  {
   "cell_type": "code",
   "execution_count": 56,
   "metadata": {},
   "outputs": [],
   "source": [
    "### Create connection to database\n",
    "conn = pg2.connect(database='dvdrental', user='postgres', password='********')\n",
    "### Create cursor \n",
    "cur = conn.cursor()"
   ]
  },
  {
   "cell_type": "code",
   "execution_count": 83,
   "metadata": {},
   "outputs": [],
   "source": [
    "ids = (87,101)\n",
    "### With the cursor execute some command\n",
    "cur.execute(f\"\"\"\n",
    "SELECT city, country_id, DATE(last_update) FROM city\n",
    "WHERE country_id IN {ids}\n",
    "\"\"\")"
   ]
  },
  {
   "cell_type": "code",
   "execution_count": 84,
   "metadata": {},
   "outputs": [],
   "source": [
    "### fetch data from cursor, use tab to get all options (fetchone, fetchmany, fetchall)\n",
    "data = cur.fetchall()"
   ]
  },
  {
   "cell_type": "code",
   "execution_count": 104,
   "metadata": {},
   "outputs": [],
   "source": [
    "empt_list = []"
   ]
  },
  {
   "cell_type": "code",
   "execution_count": 107,
   "metadata": {},
   "outputs": [],
   "source": [
    "### With the cursor execute some command\n",
    "\n",
    "cur.execute(f\"\"\"\n",
    "SELECT * FROM payment\n",
    "WHERE payment_date BETWEEN '2005-01-01' AND '2007-05-01'\n",
    "\"\"\")\n",
    "data = cur.fetchall()\n",
    "for i in data:\n",
    "    ### We use tuple unpacking to get our vars\n",
    "    (payment_id, customer_id, staff_id, rental_id, amount, payment_date) = i\n",
    "    empt_list.append([payment_id, customer_id, staff_id, rental_id, amount, payment_date])\n"
   ]
  },
  {
   "cell_type": "code",
   "execution_count": 109,
   "metadata": {},
   "outputs": [],
   "source": [
    "### List can then be stored as a new df\n",
    "x = pd.DataFrame(empt_list)"
   ]
  },
  {
   "cell_type": "code",
   "execution_count": 110,
   "metadata": {},
   "outputs": [
    {
     "data": {
      "text/html": [
       "<div>\n",
       "<style scoped>\n",
       "    .dataframe tbody tr th:only-of-type {\n",
       "        vertical-align: middle;\n",
       "    }\n",
       "\n",
       "    .dataframe tbody tr th {\n",
       "        vertical-align: top;\n",
       "    }\n",
       "\n",
       "    .dataframe thead th {\n",
       "        text-align: right;\n",
       "    }\n",
       "</style>\n",
       "<table border=\"1\" class=\"dataframe\">\n",
       "  <thead>\n",
       "    <tr style=\"text-align: right;\">\n",
       "      <th></th>\n",
       "      <th>0</th>\n",
       "      <th>1</th>\n",
       "      <th>2</th>\n",
       "      <th>3</th>\n",
       "      <th>4</th>\n",
       "      <th>5</th>\n",
       "    </tr>\n",
       "  </thead>\n",
       "  <tbody>\n",
       "    <tr>\n",
       "      <th>0</th>\n",
       "      <td>17503</td>\n",
       "      <td>341</td>\n",
       "      <td>2</td>\n",
       "      <td>1520</td>\n",
       "      <td>7.99</td>\n",
       "      <td>2007-02-15 22:25:46.996577</td>\n",
       "    </tr>\n",
       "    <tr>\n",
       "      <th>1</th>\n",
       "      <td>17504</td>\n",
       "      <td>341</td>\n",
       "      <td>1</td>\n",
       "      <td>1778</td>\n",
       "      <td>1.99</td>\n",
       "      <td>2007-02-16 17:23:14.996577</td>\n",
       "    </tr>\n",
       "    <tr>\n",
       "      <th>2</th>\n",
       "      <td>17505</td>\n",
       "      <td>341</td>\n",
       "      <td>1</td>\n",
       "      <td>1849</td>\n",
       "      <td>7.99</td>\n",
       "      <td>2007-02-16 22:41:45.996577</td>\n",
       "    </tr>\n",
       "    <tr>\n",
       "      <th>3</th>\n",
       "      <td>17506</td>\n",
       "      <td>341</td>\n",
       "      <td>2</td>\n",
       "      <td>2829</td>\n",
       "      <td>2.99</td>\n",
       "      <td>2007-02-19 19:39:56.996577</td>\n",
       "    </tr>\n",
       "    <tr>\n",
       "      <th>4</th>\n",
       "      <td>17507</td>\n",
       "      <td>341</td>\n",
       "      <td>2</td>\n",
       "      <td>3130</td>\n",
       "      <td>7.99</td>\n",
       "      <td>2007-02-20 17:31:48.996577</td>\n",
       "    </tr>\n",
       "    <tr>\n",
       "      <th>...</th>\n",
       "      <td>...</td>\n",
       "      <td>...</td>\n",
       "      <td>...</td>\n",
       "      <td>...</td>\n",
       "      <td>...</td>\n",
       "      <td>...</td>\n",
       "    </tr>\n",
       "    <tr>\n",
       "      <th>28823</th>\n",
       "      <td>31912</td>\n",
       "      <td>267</td>\n",
       "      <td>1</td>\n",
       "      <td>5340</td>\n",
       "      <td>6.99</td>\n",
       "      <td>2007-04-09 15:40:01.996577</td>\n",
       "    </tr>\n",
       "    <tr>\n",
       "      <th>28824</th>\n",
       "      <td>31913</td>\n",
       "      <td>267</td>\n",
       "      <td>1</td>\n",
       "      <td>6070</td>\n",
       "      <td>0.99</td>\n",
       "      <td>2007-04-11 03:16:08.996577</td>\n",
       "    </tr>\n",
       "    <tr>\n",
       "      <th>28825</th>\n",
       "      <td>31914</td>\n",
       "      <td>267</td>\n",
       "      <td>1</td>\n",
       "      <td>6706</td>\n",
       "      <td>3.99</td>\n",
       "      <td>2007-04-12 11:27:42.996577</td>\n",
       "    </tr>\n",
       "    <tr>\n",
       "      <th>28826</th>\n",
       "      <td>31915</td>\n",
       "      <td>267</td>\n",
       "      <td>1</td>\n",
       "      <td>8190</td>\n",
       "      <td>4.99</td>\n",
       "      <td>2007-04-28 21:15:32.996577</td>\n",
       "    </tr>\n",
       "    <tr>\n",
       "      <th>28827</th>\n",
       "      <td>31916</td>\n",
       "      <td>267</td>\n",
       "      <td>1</td>\n",
       "      <td>8572</td>\n",
       "      <td>1.99</td>\n",
       "      <td>2007-04-29 10:19:50.996577</td>\n",
       "    </tr>\n",
       "  </tbody>\n",
       "</table>\n",
       "<p>28828 rows × 6 columns</p>\n",
       "</div>"
      ],
      "text/plain": [
       "           0    1  2     3     4                          5\n",
       "0      17503  341  2  1520  7.99 2007-02-15 22:25:46.996577\n",
       "1      17504  341  1  1778  1.99 2007-02-16 17:23:14.996577\n",
       "2      17505  341  1  1849  7.99 2007-02-16 22:41:45.996577\n",
       "3      17506  341  2  2829  2.99 2007-02-19 19:39:56.996577\n",
       "4      17507  341  2  3130  7.99 2007-02-20 17:31:48.996577\n",
       "...      ...  ... ..   ...   ...                        ...\n",
       "28823  31912  267  1  5340  6.99 2007-04-09 15:40:01.996577\n",
       "28824  31913  267  1  6070  0.99 2007-04-11 03:16:08.996577\n",
       "28825  31914  267  1  6706  3.99 2007-04-12 11:27:42.996577\n",
       "28826  31915  267  1  8190  4.99 2007-04-28 21:15:32.996577\n",
       "28827  31916  267  1  8572  1.99 2007-04-29 10:19:50.996577\n",
       "\n",
       "[28828 rows x 6 columns]"
      ]
     },
     "execution_count": 110,
     "metadata": {},
     "output_type": "execute_result"
    }
   ],
   "source": [
    "x"
   ]
  },
  {
   "cell_type": "code",
   "execution_count": null,
   "metadata": {},
   "outputs": [],
   "source": []
  }
 ],
 "metadata": {
  "kernelspec": {
   "display_name": "Python 3",
   "language": "python",
   "name": "python3"
  },
  "language_info": {
   "codemirror_mode": {
    "name": "ipython",
    "version": 3
   },
   "file_extension": ".py",
   "mimetype": "text/x-python",
   "name": "python",
   "nbconvert_exporter": "python",
   "pygments_lexer": "ipython3",
   "version": "3.7.7"
  },
  "varInspector": {
   "cols": {
    "lenName": 16,
    "lenType": 16,
    "lenVar": 40
   },
   "kernels_config": {
    "python": {
     "delete_cmd_postfix": "",
     "delete_cmd_prefix": "del ",
     "library": "var_list.py",
     "varRefreshCmd": "print(var_dic_list())"
    },
    "r": {
     "delete_cmd_postfix": ") ",
     "delete_cmd_prefix": "rm(",
     "library": "var_list.r",
     "varRefreshCmd": "cat(var_dic_list()) "
    }
   },
   "types_to_exclude": [
    "module",
    "function",
    "builtin_function_or_method",
    "instance",
    "_Feature"
   ],
   "window_display": false
  }
 },
 "nbformat": 4,
 "nbformat_minor": 4
}
