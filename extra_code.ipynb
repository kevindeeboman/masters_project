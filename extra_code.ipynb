{
 "cells": [
  {
   "cell_type": "code",
   "execution_count": null,
   "metadata": {},
   "outputs": [],
   "source": [
    "# Project imports #\n",
    "import pandas as pd\n",
    "import numpy as np\n",
    "import psycopg2 as pg2\n",
    "import matplotlib.pyplot as plt\n",
    "import json\n",
    "import csv\n",
    "import re\n",
    "from statsmodels.tsa.seasonal import STL\n",
    "import statsmodels.api as sm\n",
    "from datetime import datetime\n",
    "import calendar\n",
    "from calendar import monthrange"
   ]
  },
  {
   "cell_type": "code",
   "execution_count": null,
   "metadata": {},
   "outputs": [],
   "source": [
    "listy = []\n",
    "with open('/Users/Kevin/Desktop/project_dta/csv_pd2006_2020/Kommungruppsindelningen.csv', 'r') as f:\n",
    "    codes = csv.reader(f)\n",
    "    for row in codes:\n",
    "        listy.append(row)\n",
    "\n",
    "for i in listy[1:]:\n",
    "    i[1] = int(i[1])\n",
    "    i[-2] = int(i[-2])\n",
    "    i[-4] = int(i[-4])\n",
    "\n",
    "print(listy)\n",
    "with open(f'/Users/Kevin/Desktop/project_dta/csv_pd2006_2020_city/municipality_codes', mode='w', newline=\"\") as file_writer:\n",
    "        write = csv.writer(file_writer)\n",
    "        for row in listy:\n",
    "            write.writerow(row)"
   ]
  },
  {
   "cell_type": "code",
   "execution_count": null,
   "metadata": {},
   "outputs": [],
   "source": [
    "# Full outer join #\n",
    "cur.execute(\"\"\"\n",
    "    CREATE TABLE historic_ads_extension_1 AS \n",
    "    (SELECT ad_id, headline, number_of_vacancies, publication_date, application_deadline, historic_ads_muni.municipality_code, municipality_codes.municipality_name, municipality_codes.municipality_group_code, municipality_codes.municipality_group_name, municipality_codes.county_code, municipality_codes.county_name\n",
    "    FROM historic_ads_muni\n",
    "    FULL OUTER JOIN municipality_codes\n",
    "    ON historic_ads_muni.municipality_code = municipality_codes.municipality_code);\n",
    "    ;\"\"\")\n",
    "conn.commit()"
   ]
  },
  {
   "cell_type": "code",
   "execution_count": null,
   "metadata": {},
   "outputs": [],
   "source": [
    "# Left join #\n",
    "cur.execute(\"\"\"\n",
    "    CREATE TABLE historic_ads_left AS\n",
    "    (SELECT m.number_of_vacancies, k.municipality_name \n",
    "    FROM historic_ads_muni m \n",
    "    LEFT JOIN municipality_codes k ON k.municipality_code = m.municipality_code);\n",
    "    ;\"\"\")\n",
    "conn.commit()"
   ]
  }
 ],
 "metadata": {
  "kernelspec": {
   "display_name": "Python 3",
   "language": "python",
   "name": "python3"
  },
  "language_info": {
   "codemirror_mode": {
    "name": "ipython",
    "version": 3
   },
   "file_extension": ".py",
   "mimetype": "text/x-python",
   "name": "python",
   "nbconvert_exporter": "python",
   "pygments_lexer": "ipython3",
   "version": "3.7.7"
  }
 },
 "nbformat": 4,
 "nbformat_minor": 4
}
