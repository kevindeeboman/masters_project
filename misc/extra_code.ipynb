{
 "cells": [
  {
   "cell_type": "code",
   "execution_count": 3,
   "metadata": {},
   "outputs": [],
   "source": [
    "# Project imports #\n",
    "import pandas as pd\n",
    "import numpy as np\n",
    "import psycopg2 as pg2\n",
    "import matplotlib.pyplot as plt\n",
    "import json\n",
    "import csv\n",
    "import re\n",
    "from statsmodels.tsa.seasonal import STL\n",
    "import statsmodels.api as sm\n",
    "from datetime import datetime\n",
    "import calendar\n",
    "from calendar import monthrange"
   ]
  },
  {
   "cell_type": "code",
   "execution_count": null,
   "metadata": {},
   "outputs": [],
   "source": [
    "listy = []\n",
    "with open('/Users/Kevin/Desktop/project_dta/csv_pd2006_2020/Kommungruppsindelningen.csv', 'r') as f:\n",
    "    codes = csv.reader(f)\n",
    "    for row in codes:\n",
    "        listy.append(row)\n",
    "\n",
    "for i in listy[1:]:\n",
    "    i[1] = int(i[1])\n",
    "    i[-2] = int(i[-2])\n",
    "    i[-4] = int(i[-4])\n",
    "\n",
    "print(listy)\n",
    "with open(f'/Users/Kevin/Desktop/project_dta/csv_pd2006_2020_city/municipality_codes', mode='w', newline=\"\") as file_writer:\n",
    "        write = csv.writer(file_writer)\n",
    "        for row in listy:\n",
    "            write.writerow(row)"
   ]
  },
  {
   "cell_type": "code",
   "execution_count": null,
   "metadata": {},
   "outputs": [],
   "source": [
    "# Full outer join #\n",
    "cur.execute(\"\"\"\n",
    "    CREATE TABLE historic_ads_extension_1 AS \n",
    "    (SELECT ad_id, headline, number_of_vacancies, publication_date, application_deadline, historic_ads_muni.municipality_code, municipality_codes.municipality_name, municipality_codes.municipality_group_code, municipality_codes.municipality_group_name, municipality_codes.county_code, municipality_codes.county_name\n",
    "    FROM historic_ads_muni\n",
    "    FULL OUTER JOIN municipality_codes\n",
    "    ON historic_ads_muni.municipality_code = municipality_codes.municipality_code);\n",
    "    ;\"\"\")\n",
    "conn.commit()"
   ]
  },
  {
   "cell_type": "code",
   "execution_count": null,
   "metadata": {},
   "outputs": [],
   "source": [
    "# Left join #\n",
    "cur.execute(\"\"\"\n",
    "    CREATE TABLE historic_ads_left AS\n",
    "    (SELECT m.number_of_vacancies, k.municipality_name \n",
    "    FROM historic_ads_muni m \n",
    "    LEFT JOIN municipality_codes k ON k.municipality_code = m.municipality_code);\n",
    "    ;\"\"\")\n",
    "conn.commit()"
   ]
  },
  {
   "cell_type": "markdown",
   "metadata": {},
   "source": [
    "### Anomaly detection - Daily index"
   ]
  },
  {
   "cell_type": "code",
   "execution_count": null,
   "metadata": {},
   "outputs": [],
   "source": [
    "resid_mu = res_resid.mean()\n",
    "resid_dev = res_resid.std()\n",
    "lower = resid_mu - 3*resid_dev\n",
    "upper = resid_mu + 3*resid_dev\n",
    "plt.figure(figsize=(10,4))\n",
    "plt.plot(res_resid)\n",
    "plt.fill_between([datetime(2006,1,1), datetime(2020,12,31)], lower, upper, color='g', alpha=0.25, linestyle='--', linewidth=2)\n",
    "plt.xticks(ticks=date_index, labels=date_range)\n",
    "plt.xlim(datetime(2005,10,1), datetime(2021,3,1))\n",
    "plt.show()"
   ]
  },
  {
   "cell_type": "markdown",
   "metadata": {},
   "source": [
    "### Connecting ssyk_codes"
   ]
  },
  {
   "cell_type": "code",
   "execution_count": 4,
   "metadata": {},
   "outputs": [],
   "source": [
    "x = pd.read_csv('/Users/Kevin/Desktop/project_dta/extension_2/ssyk_levels/ssyk_2.csv', names=['ssyk_2_code', 'ssyk_2_desc'], sep=';')\n",
    "y = pd.read_excel('/Users/Kevin/Desktop/project_dta/extension_2/ssyk_levels/ssyk_3_4.xls', names=['ssyk_4_code', 'ssyk_4_desc'], header=None)\n",
    "z = pd.read_excel('/Users/Kevin/Desktop/project_dta/extension_2/ssyk_levels/ssyk_1.xls', names=['ssyk_1_code', 'ssyk_1_desc'], header=None)"
   ]
  },
  {
   "cell_type": "code",
   "execution_count": 5,
   "metadata": {},
   "outputs": [],
   "source": [
    "y['ssyk_2_code'] = y['ssyk_4_code'].apply(lambda x:str(x)).apply(lambda x:int(x[0:2]))\n",
    "y = y.reindex(['ssyk_2_code','ssyk_4_code','ssyk_4_desc'], axis=1)\n",
    "# Line below need adjusting depending on loaded data #\n",
    "y.iloc[0:3,0] = y.iloc[0:3,0].apply(lambda x:str(x)).apply(lambda x:int(x[0]))"
   ]
  },
  {
   "cell_type": "code",
   "execution_count": 6,
   "metadata": {},
   "outputs": [],
   "source": [
    "y = y.merge(x, on='ssyk_2_code')\n",
    "y = y.reindex(['ssyk_2_code','ssyk_2_desc', 'ssyk_4_code', 'ssyk_4_desc'], axis=1)\n",
    "y.to_csv('/Users/Kevin/Desktop/project_dta/extension_2/ssyk_levels/ssyk_merged.csv', sep=';', index=False, header=False)"
   ]
  },
  {
   "cell_type": "code",
   "execution_count": 7,
   "metadata": {},
   "outputs": [],
   "source": [
    "merge = pd.read_csv('/Users/Kevin/Desktop/project_dta/extension_2/ssyk_levels/ssyk_merged.csv', sep=';', names=['ssyk_2_code', 'ssyk_2_desc','ssyk_4_code','ssyk_4_desc'], header=None)"
   ]
  },
  {
   "cell_type": "code",
   "execution_count": 8,
   "metadata": {},
   "outputs": [],
   "source": [
    "#y['ssyk_2_code'] = y['ssyk_4_code'].apply(lambda x:str(x)).apply(lambda x:int(x[0:2]))\n",
    "merge.iloc[:3,0] = merge.iloc[:3,0].apply(lambda x:0)\n",
    "pd.options.display.max_rows = 999\n",
    "merge['ssyk_1_code'] = merge['ssyk_2_code'].apply(lambda x:str(x)).apply(lambda x:int(x[0:1]))\n",
    "merge = merge.reindex(['ssyk_1_code', 'ssyk_2_code','ssyk_2_desc', 'ssyk_4_code', 'ssyk_4_desc'], axis=1)\n",
    "merge = z.merge(merge, on='ssyk_1_code')\n",
    "merge.to_csv('/Users/Kevin/Desktop/project_dta/extension_2/ssyk_levels/ssyk_merged.csv', sep=';', index=False, header=False)"
   ]
  },
  {
   "cell_type": "code",
   "execution_count": 12,
   "metadata": {},
   "outputs": [],
   "source": [
    "# Removal of problematci withspace #\n",
    "merge['ssyk_1_desc'] = merge['ssyk_1_desc'].apply(lambda x:x.strip())\n",
    "merge['ssyk_2_desc'] = merge['ssyk_2_desc'].apply(lambda x:x.strip())\n",
    "merge['ssyk_4_desc'] = merge['ssyk_4_desc'].apply(lambda x:x.strip())"
   ]
  },
  {
   "cell_type": "code",
   "execution_count": 11,
   "metadata": {},
   "outputs": [],
   "source": [
    "merge.to_csv('/Users/Kevin/Desktop/project_dta/extension_2/ssyk_levels/ssyk_merged.csv', sep=';', index=False, header=False)"
   ]
  },
  {
   "cell_type": "markdown",
   "metadata": {},
   "source": [
    "### Extraction of SSYK"
   ]
  },
  {
   "cell_type": "code",
   "execution_count": null,
   "metadata": {},
   "outputs": [],
   "source": [
    "ssyk_1 = []\n",
    "ssyk_1.append(['Date', 'Chefsyrken', 'Militära yrken', 'Service-, omsorgs- och försäljningsyrken', 'Yrken inom administration och kundtjänst'\n",
    "               ,'Yrken inom byggverksamhet och tillverkning', 'Yrken inom lantbruk, trädgård, skogsbruk och fiske'\n",
    "               , 'Yrken inom maskinell tillverkning och transport m.m.', 'Yrken med krav på fördjupad högskolekompetens'\n",
    "               , 'Yrken med krav på kortare utbildning eller introduktion'])\n",
    "\n",
    "# Analysis of labor demand by occupational group #\n",
    "for year in range(2008, 2021):\n",
    "    for month in range(1,13):\n",
    "        for day in range(1, calendar.monthrange(year, month)[1] + 1):\n",
    "            cur.execute(f\"\"\"\n",
    "            SELECT SUM(number_of_vacancies), ssyk_desc_1 FROM historic_ads_2 \n",
    "            WHERE '{year}-{month}-{day}' >= publication_date AND '{year}-{month}-{day}' <= application_deadline\n",
    "            GROUP BY ssyk_desc_1\n",
    "            ;\"\"\")\n",
    "            # The fetch contains at least 9 values, when len > 9 the military professions are included #\n",
    "            occupation_group = cur.fetchall()\n",
    "            if len(occupation_group) < 10:\n",
    "                ssyk_1.append([f'{year}-{month}-{day}', occupation_group[0][0], np.nan, occupation_group[1][0], occupation_group[2][0]\n",
    "                               , occupation_group[3][0], occupation_group[4][0], occupation_group[5][0], occupation_group[6][0] \n",
    "                               , occupation_group[7][0], occupation_group[8][0]])\n",
    "            # If military profession is in, its in index 1 #\n",
    "            else:\n",
    "                ssyk_1.append([f'{year}-{month}-{day}', occupation_group[0][0], occupation_group[1][0],occupation_group[2][0]\n",
    "                               , occupation_group[3][0], occupation_group[4][0], occupation_group[5][0], occupation_group[6][0] \n",
    "                               , occupation_group[7][0], occupation_group[8][0], occupation_group[9][0]])"
   ]
  }
 ],
 "metadata": {
  "kernelspec": {
   "display_name": "Python 3",
   "language": "python",
   "name": "python3"
  },
  "language_info": {
   "codemirror_mode": {
    "name": "ipython",
    "version": 3
   },
   "file_extension": ".py",
   "mimetype": "text/x-python",
   "name": "python",
   "nbconvert_exporter": "python",
   "pygments_lexer": "ipython3",
   "version": "3.7.9"
  }
 },
 "nbformat": 4,
 "nbformat_minor": 4
}
